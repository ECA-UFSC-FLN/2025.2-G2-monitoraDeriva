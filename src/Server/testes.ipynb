{
 "cells": [
  {
   "cell_type": "code",
   "execution_count": 22,
   "id": "1d578088",
   "metadata": {},
   "outputs": [],
   "source": [
    "import requests\n",
    "import time\n",
    "from datetime import datetime"
   ]
  },
  {
   "cell_type": "code",
   "execution_count": 2,
   "id": "fa04bfb0",
   "metadata": {},
   "outputs": [],
   "source": [
    "def send_data(data):\n",
    "    url = 'http://localhost:5000/location'\n",
    "    return requests.post(url,json=data)"
   ]
  },
  {
   "cell_type": "code",
   "execution_count": 40,
   "id": "e9129a1b",
   "metadata": {},
   "outputs": [],
   "source": [
    "data = {\n",
    "    'sender_id':'0',\n",
    "    'timestamp':time.time(),\n",
    "    'latitude':-28.508032,\n",
    "    'longitude':-48.53927,\n",
    "    'gps_module_id':'1'\n",
    "}"
   ]
  },
  {
   "cell_type": "code",
   "execution_count": 42,
   "id": "dde1b310",
   "metadata": {},
   "outputs": [],
   "source": [
    "for i in range(10):\n",
    "    data = {\n",
    "        'sender_id':'0',\n",
    "        'timestamp':time.time(),\n",
    "        'latitude':-i*0.1-20,\n",
    "        'longitude':i*0.2-45,\n",
    "        'gps_module_id':'0'\n",
    "    }\n",
    "\n",
    "    r = send_data(data)"
   ]
  },
  {
   "cell_type": "code",
   "execution_count": 43,
   "id": "c0e699d7",
   "metadata": {},
   "outputs": [],
   "source": [
    "for i in range(10):\n",
    "    data = {\n",
    "        'sender_id':'0',\n",
    "        'timestamp':time.time(),\n",
    "        'latitude':i*0.2-21,\n",
    "        'longitude':-i*0.15-42,\n",
    "        'gps_module_id':'1'\n",
    "    }\n",
    "\n",
    "    r = send_data(data)"
   ]
  },
  {
   "cell_type": "code",
   "execution_count": null,
   "id": "68fd3eb7",
   "metadata": {},
   "outputs": [],
   "source": []
  }
 ],
 "metadata": {
  "kernelspec": {
   "display_name": "dash",
   "language": "python",
   "name": "python3"
  },
  "language_info": {
   "codemirror_mode": {
    "name": "ipython",
    "version": 3
   },
   "file_extension": ".py",
   "mimetype": "text/x-python",
   "name": "python",
   "nbconvert_exporter": "python",
   "pygments_lexer": "ipython3",
   "version": "3.13.7"
  }
 },
 "nbformat": 4,
 "nbformat_minor": 5
}
